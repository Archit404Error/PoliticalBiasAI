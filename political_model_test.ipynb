{
 "cells": [
  {
   "cell_type": "code",
   "execution_count": 49,
   "id": "dd757d2e",
   "metadata": {},
   "outputs": [],
   "source": [
    "from nltk.corpus import stopwords\n",
    "from nltk.tokenize import word_tokenize\n",
    "from tensorflow.keras.models import load_model\n",
    "from gensim.models import Doc2Vec\n",
    "import numpy as np\n",
    "import tensorflow as tf\n",
    "import pickle\n",
    "import nltk\n",
    "import re"
   ]
  },
  {
   "cell_type": "code",
   "execution_count": 50,
   "id": "be2ce013",
   "metadata": {},
   "outputs": [],
   "source": [
    "vec_model = Doc2Vec.load('./models/Doc2Vec/article_bias_doc2vec.model')\n",
    "rf_model = pickle.load(open('./models/RandomForest/rf_bias.pickle', 'rb'))\n",
    "svm_model = pickle.load(open('./models/SVM/svc_bias.pickle', 'rb'))\n",
    "article_nn = load_model('./models/TensorFlow/article_bias_nn.h5')"
   ]
  },
  {
   "cell_type": "code",
   "execution_count": 51,
   "id": "86dab6b5",
   "metadata": {},
   "outputs": [],
   "source": [
    "# Republican article (Breitbart)\n",
    "rep_article = \"\"\"Republicans had, through 11 ballots over three days, been unable to elect a speaker because of roughly 20 holdouts, many of whom had concerns about McCarthy and sought structural changes to the House and other commitments from the leader before they would vote for him.\n",
    "\n",
    "Gaetz, however, firmly placed himself in a small crowd of “never Kevin” voters weeks ago. Gaetz told Steve Bannon’s War Room in an interview in December that McCarthy did not have the requisite majority of votes nor did he have even 200 votes.\n",
    "\n",
    "“There’s a reason that the true conservatives are going to stand against him and deprive him the speakership,” Gaetz said at the time.\n",
    "\n",
    "Those members, many of whom are in the conservative House Freedom Caucus (Gaetz is not in the caucus but frequently aligns with them on issues), did stand against McCarthy up until Friday morning as intense negotiations between the holdouts and McCarthy took place this week.\n",
    "\n",
    "The negotiations included, among what appears to be many items, bringing the motion to vacate down to a one-member threshold and putting more members of the Freedom Caucus on the Rules Committee, as well as budgetary provisions and vows to bring votes on certain legislation to the floor.\n",
    "\n",
    "Those agreements appeared to be overwhelmingly successful when 14 holdouts voted for McCarthy on Friday. The burst of momentum has led to several members, including McCarthy himself, showing optimism that by having all Republicans present — two were absent Friday morning — and flipping a couple of the remaining holdouts to McCarthy or “present” votes, McCarthy could clinch the speakership, and do so as early as Friday night.\n",
    "\n",
    "Gaetz was asked on Friday by CNN’s Manu Raju if he would “concede” that McCarthy was going to win following the vote flips.\n",
    "\n",
    "“It’s looking like it’s heading that way,” Gaetz said.\n",
    "\n",
    "In a change of tune from December, Gaetz also told reporters, “I think that the rules and personnel changes in the House that we’ve been talking about will do a lot to democratize power to the membership” and will allow members to be in a “far stronger position.”\n",
    "\n",
    "One reporter asked Gaetz if he would go as far as to consider voting for McCarthy at this stage, to which Gaetz replied, “Hope springs eternal.”\n",
    "\n",
    "He added, “I’m very excited about the changes that we’ve made and that we’re still negotiating on spending and on the rules, and we’ll see how it goes tonight.”\n",
    "\n",
    "A 14th round of voting is expected to begin at 10:00 p.m. Friday.\n",
    "\"\"\"\n",
    "\n",
    "dem_article = \"\"\"From same-sex marriage protections to veterans’ aid, Joe Biden’s party used its thin majority to deliver many campaign promises\n",
    "\n",
    "In January, Democrats will lose their unified control of Capitol Hill, ending a remarkable legislative streak that saw the party deliver on many of their campaign promises.\n",
    "\n",
    "While Joe Biden and his party did not accomplish everything they set out to do, Democrats in Congress spent the last two years marshalling their thin majorities to pass consequential legislation that touches nearly every aspect of American life from water quality to marriage equality. Some of the most notable measures even earned Republican support.\n",
    "\n",
    "The US president tweeted at midnight on New Year’s Eve: “I think it’s going to be a great year. Why? Because we get to start implementing a lot of the things we passed last year.”\n",
    "\n",
    "Biden and top administration officials will open a new year of divided government by fanning out across the country to talk about how the economy is benefiting from bipartisan efforts.\n",
    "\n",
    "Biden and Senate Republican leader Mitch McConnell will make a rare joint appearance in McConnell’s home state of Kentucky on Wednesday to highlight nearly $1tn in infrastructure spending that lawmakers approved on a bipartisan basis in 2021.\n",
    "\n",
    "As the new era of split control dawns in Washington, with Republicans set to take control of the House on 3 January, here’s a look at what Democrats accomplished during the 117th Congress.\n",
    "\"\"\"\n",
    "\n",
    "def clean(text):\n",
    "    text = re.sub(r'\\|\\|\\|', r' ', text)\n",
    "    text = text.replace('„','')\n",
    "    text = text.replace('“','')\n",
    "    text = text.replace('\"','')\n",
    "    text = text.replace('\\'','')\n",
    "    text = text.replace('-','')\n",
    "    text = text.lower()\n",
    "    return text\n",
    "\n",
    "def remove_stopwords(text):\n",
    "    engl_stops = set(stopwords.words('english'))\n",
    "    return ' '.join([word for word in text.split() if word not in engl_stops])\n",
    "\n",
    "def tokenize(text):\n",
    "    return list(filter(lambda word : len(word) > 3, word_tokenize(text)))\n",
    "\n",
    "rep_embeddings = vec_model.infer_vector(tokenize(remove_stopwords(clean(rep_article))))\n",
    "dem_embeddings = vec_model.infer_vector(tokenize(remove_stopwords(clean(dem_article))))"
   ]
  },
  {
   "cell_type": "code",
   "execution_count": 63,
   "id": "37a4ff76",
   "metadata": {
    "scrolled": true
   },
   "outputs": [
    {
     "name": "stdout",
     "output_type": "stream",
     "text": [
      "republican\n",
      "republican\n",
      "democratic\n",
      "democratic\n"
     ]
    },
    {
     "name": "stderr",
     "output_type": "stream",
     "text": [
      "[Parallel(n_jobs=8)]: Using backend ThreadingBackend with 8 concurrent workers.\n",
      "[Parallel(n_jobs=8)]: Done  16 tasks      | elapsed:    0.0s\n",
      "[Parallel(n_jobs=8)]: Done 100 out of 100 | elapsed:    0.0s finished\n",
      "[Parallel(n_jobs=8)]: Using backend ThreadingBackend with 8 concurrent workers.\n",
      "[Parallel(n_jobs=8)]: Done  16 tasks      | elapsed:    0.0s\n",
      "[Parallel(n_jobs=8)]: Done 100 out of 100 | elapsed:    0.0s finished\n"
     ]
    }
   ],
   "source": [
    "predictions = [\"democratic\", \"republican\"]\n",
    "\n",
    "print(predictions[np.max(rf_model.predict([rep_embeddings]))])\n",
    "print(predictions[np.max(svm_model.predict([rep_embeddings]))])\n",
    "print(predictions[np.max(rf_model.predict([dem_embeddings]))])\n",
    "print(predictions[np.max(svm_model.predict([dem_embeddings]))])"
   ]
  },
  {
   "cell_type": "code",
   "execution_count": 68,
   "id": "8ecd6a32",
   "metadata": {},
   "outputs": [
    {
     "name": "stdout",
     "output_type": "stream",
     "text": [
      "1/1 [==============================] - 0s 26ms/step\n",
      "republican\n",
      "democratic\n"
     ]
    }
   ],
   "source": [
    "# reverse because of one-hot encoding strategy\n",
    "nn_labels = predictions[::-1]\n",
    "\n",
    "tf_rep = np.asarray(rep_embeddings)\n",
    "tf_dem = np.asarray(dem_embeddings)\n",
    "nn_predictions = article_nn.predict(np.asarray([tf_rep, tf_dem]))\n",
    "for nn_pred in nn_predictions:\n",
    "    print(nn_labels[np.argmax(nn_pred)])"
   ]
  },
  {
   "cell_type": "code",
   "execution_count": null,
   "id": "39596ac6",
   "metadata": {},
   "outputs": [],
   "source": []
  }
 ],
 "metadata": {
  "kernelspec": {
   "display_name": "Python 3 (ipykernel)",
   "language": "python",
   "name": "python3"
  },
  "language_info": {
   "codemirror_mode": {
    "name": "ipython",
    "version": 3
   },
   "file_extension": ".py",
   "mimetype": "text/x-python",
   "name": "python",
   "nbconvert_exporter": "python",
   "pygments_lexer": "ipython3",
   "version": "3.10.8"
  }
 },
 "nbformat": 4,
 "nbformat_minor": 5
}
